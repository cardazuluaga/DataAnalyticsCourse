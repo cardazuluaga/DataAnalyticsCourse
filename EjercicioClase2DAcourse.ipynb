{
  "nbformat": 4,
  "nbformat_minor": 0,
  "metadata": {
    "colab": {
      "provenance": []
    },
    "kernelspec": {
      "name": "python3",
      "display_name": "Python 3"
    },
    "language_info": {
      "name": "python"
    }
  },
  "cells": [
    {
      "cell_type": "markdown",
      "source": [
        "Eres un analista de datos en una pequeña empresa y te han proporcionado los datos de ventas diarias de la última semana."
      ],
      "metadata": {
        "id": "GiLmpsWOY2wD"
      }
    },
    {
      "cell_type": "code",
      "source": [
        "# Datos de ventas diarias (en USD)\n",
        "ventas_diarias = [1200, 1550, 980, 2100, 750, 1800, 1300]"
      ],
      "metadata": {
        "id": "2sIN_uK5Y4rC"
      },
      "execution_count": null,
      "outputs": []
    },
    {
      "cell_type": "markdown",
      "source": [
        "Objetivos del Análisis:\n",
        "\n",
        "\n",
        "\n",
        "1. Calcular el total de ventas de la semana.\n",
        "2. Determinar el promedio de ventas diarias.\n",
        "3. Encontrar la venta más alta registrada en la semana.\n",
        "4. Contar cuántos días las ventas superarn los $1500  \n",
        "\n"
      ],
      "metadata": {
        "id": "V5-8A9cOZDsm"
      }
    }
  ]
}