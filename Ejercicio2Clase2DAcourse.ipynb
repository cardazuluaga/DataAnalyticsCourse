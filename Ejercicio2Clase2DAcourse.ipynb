{
  "nbformat": 4,
  "nbformat_minor": 0,
  "metadata": {
    "colab": {
      "provenance": [],
      "authorship_tag": "ABX9TyM78Q5MUOtSa+uKRsg7BVTV",
      "include_colab_link": true
    },
    "kernelspec": {
      "name": "python3",
      "display_name": "Python 3"
    },
    "language_info": {
      "name": "python"
    }
  },
  "cells": [
    {
      "cell_type": "markdown",
      "metadata": {
        "id": "view-in-github",
        "colab_type": "text"
      },
      "source": [
        "<a href=\"https://colab.research.google.com/github/cardazuluaga/DataAnalyticsCourse/blob/main/Ejercicio2Clase2DAcourse.ipynb\" target=\"_parent\"><img src=\"https://colab.research.google.com/assets/colab-badge.svg\" alt=\"Open In Colab\"/></a>"
      ]
    },
    {
      "cell_type": "code",
      "execution_count": 1,
      "metadata": {
        "id": "aq-oP6J2e8ne"
      },
      "outputs": [],
      "source": [
        "import pandas as pd"
      ]
    },
    {
      "cell_type": "code",
      "source": [
        "data_reseñas = {\n",
        "'Producto': ['Laptop', 'Smartphone', 'Audífonos', 'Tablet', 'Smartwatch', 'Teclado', 'Mouse'],\n",
        "'Calificacion': [5, 4, 3, 5, 4, 2, 5],\n",
        "'Fecha_Resena': ['2023-01-15', '2023-01-16', '2023-01-17', '2023-01-18', '2023-01-19', '2023-01-20', '2023-01-21'],\n",
        "'Cliente_ID': ['C001', 'C002', 'C003', 'C004', 'C005', 'C006', 'C007']\n",
        "}"
      ],
      "metadata": {
        "id": "BECfh5SzfF5f"
      },
      "execution_count": null,
      "outputs": []
    },
    {
      "cell_type": "markdown",
      "source": [
        "**Objetivos del Análisis:**\n",
        "\n",
        "Tu tarea es escribir código Python utilizando Pandas para:\n",
        "\n",
        "1. Cargar los datos simulados en un DataFrame de Pandas llamado\n",
        "df_reseñas.\n",
        "\n",
        "2. Mostrar las primeras 7 filas del DataFrame para inspeccionar los\n",
        "datos.\n",
        "\n",
        "3. Obtener un resumen conciso de la información del DataFrame (tipos\n",
        "de datos, valores no nulos, etc.).\n",
        "\n",
        "4. Generar estadísticas descriptivas para la 4. columna 'Calificación'.\n",
        "\n",
        "5. Filtrar y mostrar solo las reseñas que tienen una 'Calificación' de 5\n",
        "estrellas."
      ],
      "metadata": {
        "id": "eIJ5oEplfHwb"
      }
    }
  ]
}