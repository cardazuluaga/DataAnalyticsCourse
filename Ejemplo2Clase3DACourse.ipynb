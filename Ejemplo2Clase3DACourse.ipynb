{
  "nbformat": 4,
  "nbformat_minor": 0,
  "metadata": {
    "colab": {
      "provenance": [],
      "authorship_tag": "ABX9TyPw8Ms//omh9UCXuMqnFmKz",
      "include_colab_link": true
    },
    "kernelspec": {
      "name": "python3",
      "display_name": "Python 3"
    },
    "language_info": {
      "name": "python"
    }
  },
  "cells": [
    {
      "cell_type": "markdown",
      "metadata": {
        "id": "view-in-github",
        "colab_type": "text"
      },
      "source": [
        "<a href=\"https://colab.research.google.com/github/cardazuluaga/DataAnalyticsCourse/blob/main/Ejemplo2Clase3DACourse.ipynb\" target=\"_parent\"><img src=\"https://colab.research.google.com/assets/colab-badge.svg\" alt=\"Open In Colab\"/></a>"
      ]
    },
    {
      "cell_type": "code",
      "execution_count": null,
      "metadata": {
        "id": "6jVPO3RC8KvL"
      },
      "outputs": [],
      "source": [
        "import pandas as pd\n",
        "\n",
        "dir = '/content/sample_data/medellin_etl_dataset_preview.csv'\n",
        "df = pd.read_csv(dir)\n",
        "df.head(10)"
      ]
    },
    {
      "cell_type": "markdown",
      "source": [
        "**Porcentaje de valores faltantes**"
      ],
      "metadata": {
        "id": "37dZBojl4qLL"
      }
    },
    {
      "cell_type": "code",
      "source": [
        "print(df.isna().mean()*100)"
      ],
      "metadata": {
        "id": "cQlimr7vBwvd"
      },
      "execution_count": null,
      "outputs": []
    },
    {
      "cell_type": "markdown",
      "source": [
        "**Elementos duplicados**"
      ],
      "metadata": {
        "id": "h2HhWUi25Oq4"
      }
    },
    {
      "cell_type": "code",
      "source": [
        "print(\"Duplicados:\", df.duplicated().sum())"
      ],
      "metadata": {
        "id": "VWBHhoCIB5Bd"
      },
      "execution_count": null,
      "outputs": []
    },
    {
      "cell_type": "markdown",
      "source": [
        "**Limpieza de Fecha**\n",
        "\n",
        "Identifica los valores NaT usando df.isnull() o df.isna().\n",
        "Decide cómo manejar los valores faltantes:\n",
        "*   Eliminar filas con valores faltantes.\n",
        "*   Rellenar con un valor específico: df.fillna(value).\n",
        "*   Rellenar con la media, mediana u otro valor calculado: df.fillna(df.mean())."
      ],
      "metadata": {
        "id": "YzromhEH8ofZ"
      }
    },
    {
      "cell_type": "code",
      "source": [
        "df['fecha_hora'] = pd.to_datetime(df['fecha_hora'], errors='coerce')\n",
        "df.head(10)"
      ],
      "metadata": {
        "id": "eBEuBGeqCGl4"
      },
      "execution_count": null,
      "outputs": []
    },
    {
      "cell_type": "code",
      "source": [
        "df = df[df['fecha_hora'].notna()].copy()\n",
        "df.head(10)"
      ],
      "metadata": {
        "id": "5dyaOHuL9KRH"
      },
      "execution_count": null,
      "outputs": []
    },
    {
      "cell_type": "markdown",
      "source": [
        "**Normalizar Texto**"
      ],
      "metadata": {
        "id": "ydaFKB1LBToF"
      }
    },
    {
      "cell_type": "code",
      "source": [
        "df[\"barrio\"] = df[\"barrio\"].str.strip().str.title()\n",
        "df[\"clima\"] = df[\"clima\"].str.strip().str.capitalize()\n",
        "df['tipo_establecimiento'] = df['tipo_establecimiento'].str.strip().str.capitalize()\n",
        "df[\"metodo_pago\"] = df[\"metodo_pago\"].str.strip().str.capitalize()\n",
        "df.head()"
      ],
      "metadata": {
        "id": "NTSPUZhHCkDy"
      },
      "execution_count": null,
      "outputs": []
    },
    {
      "cell_type": "markdown",
      "source": [
        "**Valores numéricos inconsistentes**"
      ],
      "metadata": {
        "id": "QFS7dZ4ICq52"
      }
    },
    {
      "cell_type": "code",
      "source": [
        "df[\"ventas_cop\"] = (\n",
        "    df[\"ventas_cop\"]\n",
        "    .astype(str)\n",
        "    .str.replace(r\"[^\\d]\", \"\", regex=True) # eliminar todo lo que no sea dígito\n",
        ")\n",
        "\n",
        "df[\"ventas_cop\"] = pd.to_numeric(df[\"ventas_cop\"], errors=\"coerce\")\n",
        "df.head(10)"
      ],
      "metadata": {
        "id": "2ssyuKRtC_t8"
      },
      "execution_count": null,
      "outputs": []
    },
    {
      "cell_type": "code",
      "source": [
        "df.loc[df[\"pm2_5_ugm3\"] < 0, \"pm2_5_ugm3\"] = None\n",
        "df.loc[df[\"pm2_5_ugm3\"] > 1000, \"pm2_5_ugm3\"] = None"
      ],
      "metadata": {
        "id": "aTadlW9rDx2x"
      },
      "execution_count": null,
      "outputs": []
    },
    {
      "cell_type": "code",
      "source": [
        "df.isna().mean()*100"
      ],
      "metadata": {
        "id": "HMp5ezswD4Cf"
      },
      "execution_count": null,
      "outputs": []
    },
    {
      "cell_type": "markdown",
      "source": [
        "**Manejo de datos faltantes**"
      ],
      "metadata": {
        "id": "D6PR_it-DmWL"
      }
    },
    {
      "cell_type": "code",
      "source": [
        "df[\"visitantes\"].fillna(df[\"visitantes\"].median(), inplace=True)\n",
        "df.head(10)"
      ],
      "metadata": {
        "id": "NPm1NUcREh8b"
      },
      "execution_count": null,
      "outputs": []
    },
    {
      "cell_type": "code",
      "source": [
        "df.isna().mean()*100"
      ],
      "metadata": {
        "id": "mt5_PMNeE6bc"
      },
      "execution_count": null,
      "outputs": []
    },
    {
      "cell_type": "code",
      "source": [
        "df.to_csv('DB_procesadas.csv', index=False)"
      ],
      "metadata": {
        "id": "Ms2Ywm8nKG_y"
      },
      "execution_count": null,
      "outputs": []
    }
  ]
}